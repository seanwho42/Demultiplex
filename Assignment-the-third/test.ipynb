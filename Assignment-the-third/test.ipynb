{
 "cells": [
  {
   "cell_type": "code",
   "execution_count": 1,
   "id": "1e4a8603-1887-43ba-86f7-7b53ea13414c",
   "metadata": {},
   "outputs": [],
   "source": [
    "some_string = 'some string\\n'\n",
    "\n",
    "dict_1 = {'key1': {'matched' : True},\n",
    "        'key2': (True, False),\n",
    "        'key3': False,\n",
    "        'key4': False}"
   ]
  },
  {
   "cell_type": "code",
   "execution_count": 2,
   "id": "5a3cec8d-88a2-4004-815e-46dae14f3402",
   "metadata": {},
   "outputs": [
    {
     "name": "stdout",
     "output_type": "stream",
     "text": [
      "25.3 ns ± 0.206 ns per loop (mean ± std. dev. of 7 runs, 10,000,000 loops each)\n"
     ]
    }
   ],
   "source": [
    "%%timeit\n",
    "if 'key1' in dict_1:\n",
    "    present = True"
   ]
  },
  {
   "cell_type": "code",
   "execution_count": 3,
   "id": "4ed113ee-6734-4f2b-9159-a3741dbf6128",
   "metadata": {},
   "outputs": [
    {
     "name": "stdout",
     "output_type": "stream",
     "text": [
      "35 ns ± 0.679 ns per loop (mean ± std. dev. of 7 runs, 10,000,000 loops each)\n"
     ]
    }
   ],
   "source": [
    "%%timeit\n",
    "if dict_1['key1']['matched']:\n",
    "    matched = True"
   ]
  },
  {
   "cell_type": "code",
   "execution_count": 4,
   "id": "f5400dbc-19bd-4021-a12d-86dde44c6297",
   "metadata": {},
   "outputs": [
    {
     "name": "stdout",
     "output_type": "stream",
     "text": [
      "32.4 ns ± 0.27 ns per loop (mean ± std. dev. of 7 runs, 10,000,000 loops each)\n"
     ]
    }
   ],
   "source": [
    "%%timeit\n",
    "if dict_1['key2'][0]:\n",
    "    matched = True"
   ]
  },
  {
   "cell_type": "code",
   "execution_count": 5,
   "id": "588d7940-3eb9-4e86-9d30-05d4cce559ca",
   "metadata": {},
   "outputs": [
    {
     "name": "stdout",
     "output_type": "stream",
     "text": [
      "30 ns ± 0.463 ns per loop (mean ± std. dev. of 7 runs, 10,000,000 loops each)\n"
     ]
    }
   ],
   "source": [
    "%%timeit\n",
    "string = some_string.strip()"
   ]
  },
  {
   "cell_type": "code",
   "execution_count": 6,
   "id": "b2e0bc11-eafb-47be-bdb9-1392f9b0f199",
   "metadata": {},
   "outputs": [
    {
     "name": "stdout",
     "output_type": "stream",
     "text": [
      "something else\n"
     ]
    }
   ],
   "source": [
    "if dict_1['key4']:\n",
    "    print('something')\n",
    "else:\n",
    "    print('something else')"
   ]
  },
  {
   "cell_type": "code",
   "execution_count": null,
   "id": "a1708ee3-3d6c-428a-b01b-8e1ad9972ece",
   "metadata": {},
   "outputs": [],
   "source": []
  }
 ],
 "metadata": {
  "kernelspec": {
   "display_name": "Python 3 (ipykernel)",
   "language": "python",
   "name": "python3"
  },
  "language_info": {
   "codemirror_mode": {
    "name": "ipython",
    "version": 3
   },
   "file_extension": ".py",
   "mimetype": "text/x-python",
   "name": "python",
   "nbconvert_exporter": "python",
   "pygments_lexer": "ipython3",
   "version": "3.13.5"
  }
 },
 "nbformat": 4,
 "nbformat_minor": 5
}
